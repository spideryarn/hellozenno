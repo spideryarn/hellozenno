{
 "cells": [
  {
   "cell_type": "code",
   "execution_count": 4,
   "metadata": {},
   "outputs": [
    {
     "name": "stdout",
     "output_type": "stream",
     "text": [
      "The autoreload extension is already loaded. To reload it, use:\n",
      "  %reload_ext autoreload\n"
     ]
    }
   ],
   "source": [
    "\n",
    "\n",
    "%load_ext autoreload\n",
    "%autoreload 2\n",
    "\n",
    "from IPython.display import display\n",
    "from pprint import pprint\n",
    "\n",
    "from anthropic import Anthropic\n",
    "\n",
    "from gdutils.rand import DEFAULT_RANDOM_SEED, set_seeds\n",
    "from _secrets import CLAUDE_API_KEY\n",
    "\n",
    "set_seeds(DEFAULT_RANDOM_SEED)\n",
    "\n",
    "# GREEK_WIKTIONARY_HTML = \"/Users/greg/Library/Mobile Documents/3L68KQB4HG~com~readdle~CommonDocuments/Documents/Greek learning/Greek learning - Alexandra/Greek Wiktionary_Frequency lists_Modern Greek_5K Wordlist - Wiktionary, the free dictionary.html\"\n",
    "\n",
    "anthropic_client = Anthropic(api_key=CLAUDE_API_KEY)\n",
    "\n",
    "ALREADY_WORDS_FILEN = 'already_words.txt'\n",
    "already_words = open(ALREADY_WORDS_FILEN, 'r').readlines()\n",
    "already_words = [word.strip() for word in already_words if word.strip()]"
   ]
  },
  {
   "cell_type": "code",
   "execution_count": 48,
   "metadata": {},
   "outputs": [
    {
     "name": "stdout",
     "output_type": "stream",
     "text": [
      "αρδευτικός, κατανόηση, τεράστιος, πειρατής, σκλάβος, θέληση, ωκεανός, φυλακίζω, σηκώνω, συγκρούομαι, μεταμορφώνομαι, μπολ, σκαρφαλώνω, προειδοποιώ, τρέχω, συντήρηση, σμιλεύω, διαλέγω, τέρας, ζήλευε\n",
      "Called GPT on 'generate_sentence_flashcards', context keys ['target_language_name', 'already_words']\n",
      "\n",
      "----\n",
      "Οι πειρατές του ωκεανού συγκρούστηκαν με το τεράστιο πλοίο.\n",
      "The pirates of the ocean clashed with the huge ship.\n",
      "['πειρατής', 'ωκεανός', 'συγκρούομαι', 'τεράστιος']\n",
      "\n",
      "Ο σκλάβος σκαρφάλωσε στον τοίχο για να δραπετεύσει από τη φυλακή.\n",
      "The slave climbed the wall to escape from prison.\n",
      "['σκλάβος', 'σκαρφαλώνω', 'φυλακίζω']\n",
      "\n",
      "Έτρεξα να προειδοποιήσω τους φίλους μου για το τέρας.\n",
      "I ran to warn my friends about the monster.\n",
      "['τρέχω', 'προειδοποιώ', 'τέρας']\n",
      "\n",
      "Το αρδευτικό σύστημα χρειάζεται συντήρηση.\n",
      "The irrigation system needs maintenance.\n",
      "['αρδευτικός', 'συντήρηση']\n",
      "\n"
     ]
    }
   ],
   "source": [
    "import random\n",
    "\n",
    "from gdutils.llm_utils import generate_gpt_from_template\n",
    "from prompt_templates import generate_sentence_flashcards\n",
    "\n",
    "subset_already_words = random.sample(already_words, 20)\n",
    "print(', '.join(subset_already_words))\n",
    "\n",
    "context_d = {\n",
    "    \"target_language_name\": \"Greek\",\n",
    "    \"already_words\": subset_already_words,\n",
    "}\n",
    "out, extra = generate_gpt_from_template(\n",
    "    client=anthropic_client,\n",
    "    prompt_template_var=\"generate_sentence_flashcards\",\n",
    "    context_d=context_d,\n",
    "    response_json=True,\n",
    "    verbose=2,\n",
    ")\n",
    "print()\n",
    "print('----')\n",
    "\n",
    "for x in out[\"sentences\"]:\n",
    "    print(x[\"sentence\"])\n",
    "    print(x[\"translation\"])\n",
    "    print(x[\"lemma_words\"])\n",
    "    print()\n"
   ]
  },
  {
   "cell_type": "code",
   "execution_count": 49,
   "metadata": {},
   "outputs": [],
   "source": [
    "import json\n",
    "import time\n",
    "from typing import Optional\n",
    "\n",
    "from audio_utils import generate_txt_audio, play_txt_audio\n",
    "from config import OUT_DIRN\n",
    "from lang_utils import get_language_name\n",
    "\n",
    "target_language_code = \"el\"\n",
    "target_language_name = get_language_name(target_language_code)\n",
    "SENTENCES_DIRN = OUT_DIRN / target_language_name / \"sentences\"\n",
    "SENTENCES_DIRN.mkdir(parents=True, exist_ok=True)\n",
    "\n",
    "\n",
    "def generate_sentence(\n",
    "    target_language_code: str,\n",
    "    sentence: str,\n",
    "    translation: str,\n",
    "    lemma_words: Optional[list]=None,\n",
    "    should_play: bool = False\n",
    "):\n",
    "    extra = locals()\n",
    "    if sentence.endswith(\".\"):\n",
    "        sentence = sentence[:-1]\n",
    "    mp3_filen = SENTENCES_DIRN / (sentence + \".mp3\")\n",
    "\n",
    "    txt_tgt_mp3_filen = generate_txt_audio(\n",
    "        txt=sentence,\n",
    "        should_add_delays=True,\n",
    "        should_play=should_play,\n",
    "        mp3_dirn=SENTENCES_DIRN,\n",
    "        mp3_filen=mp3_filen,\n",
    "        # overwrite_already_exists=True,\n",
    "        verbose=1,\n",
    "    )\n",
    "    json_filen = SENTENCES_DIRN / (sentence + \".json\")\n",
    "    json_filen.write_text(json.dumps(extra, indent=2))\n",
    "\n",
    "    extra.update(\n",
    "        {\n",
    "            \"mp3_filen\": str(mp3_filen),\n",
    "            \"json_filen\": str(json_filen),\n",
    "            \"sentence\": sentence,\n",
    "            \"translation\": translation,\n",
    "            \"lemma_words\": lemma_words,\n",
    "        }\n",
    "    )\n",
    "    return txt_tgt_mp3_filen, extra\n",
    "\n",
    "\n",
    "def test_random(extras: list[dict], wait_secs: float = 3):\n",
    "    cur = random.choice(extras)\n",
    "    txt = cur[\"sentence\"]\n",
    "    translation = cur[\"translation\"]\n",
    "    mp3_filen = cur[\"mp3_filen\"]\n",
    "    print(\"Playing...\",)\n",
    "    play_txt_audio(txt, mp3_filen=mp3_filen)\n",
    "    time.s leep(wait_secs)\n",
    "    print(txt)\n",
    "    print(cur[\"lemma_words\"])\n",
    "    time.sleep(wait_secs)\n",
    "    print(translation)"
   ]
  },
  {
   "cell_type": "code",
   "execution_count": 51,
   "metadata": {},
   "outputs": [
    {
     "name": "stdout",
     "output_type": "stream",
     "text": [
      "Generating MP3 file for Οι πειρατές του ωκεανού συγκρούστηκαν με το τεράστιο πλοίο -> /Users/greg/Dropbox/dev/spideryarn/241103_vocab/out/Greek/sentences/Οι πειρατές του ωκεανού συγκρούστηκαν με το τεράστιο πλοίο.mp3\n",
      "Generating MP3 file for Ο σκλάβος σκαρφάλωσε στον τοίχο για να δραπετεύσει από τη φυλακή -> /Users/greg/Dropbox/dev/spideryarn/241103_vocab/out/Greek/sentences/Ο σκλάβος σκαρφάλωσε στον τοίχο για να δραπετεύσει από τη φυλακή.mp3\n",
      "Generating MP3 file for Έτρεξα να προειδοποιήσω τους φίλους μου για το τέρας -> /Users/greg/Dropbox/dev/spideryarn/241103_vocab/out/Greek/sentences/Έτρεξα να προειδοποιήσω τους φίλους μου για το τέρας.mp3\n",
      "Generating MP3 file for Το αρδευτικό σύστημα χρειάζεται συντήρηση -> /Users/greg/Dropbox/dev/spideryarn/241103_vocab/out/Greek/sentences/Το αρδευτικό σύστημα χρειάζεται συντήρηση.mp3\n"
     ]
    }
   ],
   "source": [
    "# get a list of .json files in SENTENCES_DIRN\n",
    "json_files = list(SENTENCES_DIRN.glob(\"*.json\"))\n",
    "\n",
    "for json_filen in json_files:\n",
    "    extra = json.loads(json_filen.read_text())\n",
    "\n",
    "for sentence in out[\"sentences\"]:\n",
    "    mp3_filen, extra = generate_sentence(\n",
    "        target_language_code=target_language_code,\n",
    "        sentence=sentence[\"sentence\"],\n",
    "        translation=sentence[\"translation\"],\n",
    "        lemma_words=sentence[\"lemma_words\"],\n",
    "    )\n",
    "    extras.append(extra)"
   ]
  },
  {
   "cell_type": "code",
   "execution_count": 55,
   "metadata": {},
   "outputs": [
    {
     "name": "stdout",
     "output_type": "stream",
     "text": [
      "Playing...\n",
      "Έτρεξα να προειδοποιήσω τους φίλους μου για το τέρας\n",
      "['τρέχω', 'προειδοποιώ', 'τέρας']\n",
      "I ran to warn my friends about the monster.\n"
     ]
    }
   ],
   "source": [
    "test_random(extras)"
   ]
  },
  {
   "cell_type": "code",
   "execution_count": null,
   "metadata": {},
   "outputs": [],
   "source": []
  }
 ],
 "metadata": {
  "kernelspec": {
   "display_name": "spideryarn__241103_vocab",
   "language": "python",
   "name": "python3"
  },
  "language_info": {
   "codemirror_mode": {
    "name": "ipython",
    "version": 3
   },
   "file_extension": ".py",
   "mimetype": "text/x-python",
   "name": "python",
   "nbconvert_exporter": "python",
   "pygments_lexer": "ipython3",
   "version": "3.12.3"
  }
 },
 "nbformat": 4,
 "nbformat_minor": 2
}
