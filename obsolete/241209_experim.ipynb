{
 "cells": [
  {
   "cell_type": "code",
   "execution_count": null,
   "metadata": {},
   "outputs": [],
   "source": [
    "%load_ext autoreload\n",
    "%autoreload 2\n",
    "# %matplotlib inline\n",
    "\n",
    "from IPython.display import display\n",
    "import json\n",
    "from pathlib import Path\n",
    "from pprint import pprint\n",
    "from typing import Optional\n",
    "\n",
    "from _secrets import CLAUDE_API_KEY, ELEVENLABS_API_KEY, OPENAI_API_KEY\n",
    "from gdutils.audios import play_mp3\n",
    "from gdutils.dicts import print_dict\n",
    "from gdutils.llms_claude import call_claude_gpt\n",
    "from gdutils.outloud_text_to_speech import outloud_elevenlabs\n",
    "from vocab_llm_utils import (\n",
    "    add_delays,\n",
    "    extract_text_from_image,\n",
    "    metadata_for_word_full,\n",
    "    metadata_for_word_full_cached,\n",
    "    generate_txt_audio,\n",
    "    glob_images,\n",
    "    load_logd,\n",
    "    play_txt_audio,\n",
    "    process_img_filens,\n",
    "    pull_out_tricky_words_or_phrases,\n",
    "    quick_search_for_word,\n",
    "    # read_word_json,\n",
    "    save_logd,\n",
    "    # write_word_json,\n",
    "\n",
    ")\n",
    "\n",
    "DIRN = \"/Users/greg/Library/Mobile Documents/3L68KQB4HG~com~readdle~CommonDocuments/Documents/Greek learning/Greek learning - Alexandra/241118/\"\n",
    "# WRITE_DIRN = \"/Users/greg/Dropbox/dev/spideryarn/241103_vocab/HelloZenno/HelloZenno/data\""
   ]
  },
  {
   "cell_type": "code",
   "execution_count": 18,
   "metadata": {},
   "outputs": [],
   "source": [
    "logd, logd_filen = load_logd(DIRN)"
   ]
  },
  {
   "cell_type": "code",
   "execution_count": null,
   "metadata": {},
   "outputs": [],
   "source": [
    "img_filens = glob_images(DIRN)\n",
    "\n",
    "# txt_el, extra = extract_greek_text_from_image(img_filens=img_filens, verbose=2)\n",
    "# generate_txt_audio(txt_el, DIRN)\n",
    "# print(txt_el)\n",
    "\n",
    "for img_filen in img_filens:\n",
    "    # if img_filen in logd[\"sources\"]:\n",
    "    #     print(f\"Already processed {img_filen}\")\n",
    "    #     continue\n",
    "    \n",
    "    already_words = [d[\"original_word\"] for d in logd[\"words\"]]\n",
    "    print(f\"Ignoring: {already_words}\")\n",
    "    source_d, this_words, extra = process_img_filens(\n",
    "        img_filen, DIRN, ignore_words=already_words, verbose=1\n",
    "    )\n",
    "\n",
    "    print(f\"New words: {[d['original_word'] for d in this_words]}\")\n",
    "\n",
    "    logd[\"sources\"][img_filen] = source_d\n",
    "    logd[\"words\"].extend(this_words)\n",
    "\n",
    "# extra_processed = process_img_filens(img_filens, DIRN, verbose=1)"
   ]
  },
  {
   "cell_type": "code",
   "execution_count": 15,
   "metadata": {},
   "outputs": [],
   "source": [
    "save_logd(DIRN, logd)"
   ]
  },
  {
   "cell_type": "code",
   "execution_count": null,
   "metadata": {},
   "outputs": [],
   "source": [
    "word_d, extra = metadata_for_word_full(\"αρσενικός \", verbose=1)\n",
    "word_d, extra = quick_search_for_greek_word(\"αρσενικός\", verbose=1)"
   ]
  },
  {
   "cell_type": "code",
   "execution_count": null,
   "metadata": {},
   "outputs": [],
   "source": []
  },
  {
   "cell_type": "code",
   "execution_count": null,
   "metadata": {},
   "outputs": [],
   "source": [
    "tricky, extra = pull_out_tricky_greek_words_or_phrases(txt_el, ignore_words=None, verbose=1)\n",
    "len(tricky['words'])"
   ]
  },
  {
   "cell_type": "code",
   "execution_count": null,
   "metadata": {},
   "outputs": [],
   "source": [
    "from vocab_utils import get_greek_wiktionary_frequency_list, get_greek_wiktionary_frequency_list_cached\n",
    "\n",
    "out = get_greek_wiktionary_frequency_list_cached()\n",
    "pprint(out[:10])"
   ]
  },
  {
   "cell_type": "code",
   "execution_count": null,
   "metadata": {},
   "outputs": [],
   "source": []
  },
  {
   "cell_type": "code",
   "execution_count": null,
   "metadata": {},
   "outputs": [],
   "source": [
    "txt = \"This is a test, this is a test. This is a\\ntest\"\n",
    "# txt_slow = add_delays(txt)\n",
    "# print(txt_slow)\n",
    "\n",
    "mp3_filen = generate_txt_audio(txt, '.', should_add_delays=True, should_play=True)\n",
    "print(mp3_filen)"
   ]
  },
  {
   "cell_type": "code",
   "execution_count": null,
   "metadata": {},
   "outputs": [],
   "source": [
    "from __future__ import print_function\n",
    "import os.path\n",
    "from google.auth.transport.requests import Request\n",
    "from google.oauth2.credentials import Credentials\n",
    "\n",
    "from google_auth_oauthlib.flow import InstalledAppFlow\n",
    "from googleapiclient.discovery import build\n",
    "\n",
    "# Define the scopes\n",
    "SCOPES = [\"https://www.googleapis.com/auth/spreadsheets\"]\n",
    "\n",
    "GOOGLE_SHEET_URL = \"https://docs.google.com/spreadsheets/d/1ALbp_UXBR9Nmc0_8dM4HqNwSRGg05gzEEZtqL6_VmYc/edit?gid=0#gid=0\"\n",
    "GOOGLE_SHEET_ID = GOOGLE_SHEET_URL.split(\"/\")[-2]\n",
    "\n",
    "GOOGLE_OAUTH_FLOW_PORT = 8080\n",
    "\n",
    "from config import GOOGLE_CLIENT_CREDENTIALS\n",
    "\n",
    "GOOGLE_CLIENT_TOKEN_FILEN = \"credentials/google_client_token.json\"\n",
    "\n",
    "\n",
    "def write_to_google_sheet(sheet_id: str):\n",
    "    \"\"\"Shows basic usage of the Sheets API.\"\"\"\n",
    "    creds = None\n",
    "    # The token.json file stores the user's access and refresh tokens.\n",
    "    if os.path.exists(GOOGLE_CLIENT_TOKEN_FILEN):\n",
    "        creds = Credentials.from_authorized_user_file(GOOGLE_CLIENT_TOKEN_FILEN, SCOPES)\n",
    "    # If credentials are not available or are invalid, log the user in.\n",
    "    if not creds or not creds.valid:\n",
    "        if creds and creds.expired and creds.refresh_token:\n",
    "            creds.refresh(Request())\n",
    "        else:\n",
    "            flow = InstalledAppFlow.from_client_secrets_file(\n",
    "                GOOGLE_CLIENT_CREDENTIALS,\n",
    "                SCOPES,\n",
    "                # redirect_uri=\"http://localhost:3000/oauth2callback\",\n",
    "            )\n",
    "            flow.redirect_uri = 'http://localhost:8080/oauth2callback'\n",
    "            print(\"Redirect URI being used:\", flow.redirect_uri)\n",
    "            creds = flow.run_local_server(\n",
    "                # port=GOOGLE_OAUTH_FLOW_PORT,\n",
    "                # host=\"localhost\",\n",
    "                # redirect_uri_trailing_slash=False,\n",
    "                # redirect_uri_path=\"oauth2callback\",\n",
    "            )\n",
    "        # Save the credentials for future use\n",
    "        with open(GOOGLE_CLIENT_TOKEN_FILEN, \"w\") as token:\n",
    "            token.write(creds.to_json())\n",
    "\n",
    "    # Initialize the Sheets API service\n",
    "    service = build(\"sheets\", \"v4\", credentials=creds)\n",
    "\n",
    "    # The range of cells to update\n",
    "    range_name = \"Sheet1!A1:B2\"\n",
    "\n",
    "    # The new values to write\n",
    "    values = [[\"Hello\", \"World\"], [\"Python\", \"Rocks\"]]\n",
    "    body = {\"values\": values}\n",
    "\n",
    "    # Update the sheet\n",
    "    result = (\n",
    "        service.spreadsheets()\n",
    "        .values()\n",
    "        .update(\n",
    "            spreadsheetId=sheet_id, range=range_name, valueInputOption=\"RAW\", body=body\n",
    "        )\n",
    "        .execute()\n",
    "    )\n",
    "    print(f\"{result.get('updatedCells')} cells updated.\")\n",
    "\n",
    "\n",
    "write_to_google_sheet(GOOGLE_SHEET_ID)"
   ]
  },
  {
   "cell_type": "code",
   "execution_count": 87,
   "metadata": {},
   "outputs": [
    {
     "ename": "FileNotFoundError",
     "evalue": "[Errno 2] No such file or directory: 'credentials/google_client_token.json'",
     "output_type": "error",
     "traceback": [
      "\u001b[0;31m---------------------------------------------------------------------------\u001b[0m",
      "\u001b[0;31mFileNotFoundError\u001b[0m                         Traceback (most recent call last)",
      "Cell \u001b[0;32mIn[87], line 39\u001b[0m\n\u001b[1;32m     28\u001b[0m     result \u001b[38;5;241m=\u001b[39m (\n\u001b[1;32m     29\u001b[0m         service\u001b[38;5;241m.\u001b[39mspreadsheets()\n\u001b[1;32m     30\u001b[0m         \u001b[38;5;241m.\u001b[39mvalues()\n\u001b[0;32m   (...)\u001b[0m\n\u001b[1;32m     34\u001b[0m         \u001b[38;5;241m.\u001b[39mexecute()\n\u001b[1;32m     35\u001b[0m     )\n\u001b[1;32m     36\u001b[0m     \u001b[38;5;28mprint\u001b[39m(\u001b[38;5;124mf\u001b[39m\u001b[38;5;124m\"\u001b[39m\u001b[38;5;132;01m{\u001b[39;00mresult\u001b[38;5;241m.\u001b[39mget(\u001b[38;5;124m'\u001b[39m\u001b[38;5;124mupdatedCells\u001b[39m\u001b[38;5;124m'\u001b[39m)\u001b[38;5;132;01m}\u001b[39;00m\u001b[38;5;124m cells updated.\u001b[39m\u001b[38;5;124m\"\u001b[39m)\n\u001b[0;32m---> 39\u001b[0m \u001b[43mwrite_to_google_sheet\u001b[49m\u001b[43m(\u001b[49m\u001b[43mGOOGLE_SHEET_ID\u001b[49m\u001b[43m)\u001b[49m\n",
      "Cell \u001b[0;32mIn[87], line 8\u001b[0m, in \u001b[0;36mwrite_to_google_sheet\u001b[0;34m(sheet_id)\u001b[0m\n\u001b[1;32m      6\u001b[0m \u001b[38;5;28;01mdef\u001b[39;00m \u001b[38;5;21mwrite_to_google_sheet\u001b[39m(sheet_id: \u001b[38;5;28mstr\u001b[39m):\n\u001b[1;32m      7\u001b[0m     creds \u001b[38;5;241m=\u001b[39m \u001b[38;5;28;01mNone\u001b[39;00m\n\u001b[0;32m----> 8\u001b[0m     creds \u001b[38;5;241m=\u001b[39m \u001b[43mCredentials\u001b[49m\u001b[38;5;241;43m.\u001b[39;49m\u001b[43mfrom_authorized_user_file\u001b[49m\u001b[43m(\u001b[49m\u001b[43mGOOGLE_CLIENT_TOKEN_FILEN\u001b[49m\u001b[43m,\u001b[49m\u001b[43m \u001b[49m\u001b[43mSCOPES\u001b[49m\u001b[43m)\u001b[49m\n\u001b[1;32m      9\u001b[0m     \u001b[38;5;66;03m# If credentials are not available or are invalid, log the user in.\u001b[39;00m\n\u001b[1;32m     10\u001b[0m     \u001b[38;5;28;01mif\u001b[39;00m \u001b[38;5;129;01mnot\u001b[39;00m creds \u001b[38;5;129;01mor\u001b[39;00m \u001b[38;5;129;01mnot\u001b[39;00m creds\u001b[38;5;241m.\u001b[39mvalid:\n",
      "File \u001b[0;32m~/.venvs/spideryarn__241103_vocab/lib/python3.12/site-packages/google/oauth2/credentials.py:515\u001b[0m, in \u001b[0;36mCredentials.from_authorized_user_file\u001b[0;34m(cls, filename, scopes)\u001b[0m\n\u001b[1;32m    499\u001b[0m \u001b[38;5;129m@classmethod\u001b[39m\n\u001b[1;32m    500\u001b[0m \u001b[38;5;28;01mdef\u001b[39;00m \u001b[38;5;21mfrom_authorized_user_file\u001b[39m(\u001b[38;5;28mcls\u001b[39m, filename, scopes\u001b[38;5;241m=\u001b[39m\u001b[38;5;28;01mNone\u001b[39;00m):\n\u001b[1;32m    501\u001b[0m \u001b[38;5;250m    \u001b[39m\u001b[38;5;124;03m\"\"\"Creates a Credentials instance from an authorized user json file.\u001b[39;00m\n\u001b[1;32m    502\u001b[0m \n\u001b[1;32m    503\u001b[0m \u001b[38;5;124;03m    Args:\u001b[39;00m\n\u001b[0;32m   (...)\u001b[0m\n\u001b[1;32m    513\u001b[0m \u001b[38;5;124;03m        ValueError: If the file is not in the expected format.\u001b[39;00m\n\u001b[1;32m    514\u001b[0m \u001b[38;5;124;03m    \"\"\"\u001b[39;00m\n\u001b[0;32m--> 515\u001b[0m     \u001b[38;5;28;01mwith\u001b[39;00m \u001b[43mio\u001b[49m\u001b[38;5;241;43m.\u001b[39;49m\u001b[43mopen\u001b[49m\u001b[43m(\u001b[49m\u001b[43mfilename\u001b[49m\u001b[43m,\u001b[49m\u001b[43m \u001b[49m\u001b[38;5;124;43m\"\u001b[39;49m\u001b[38;5;124;43mr\u001b[39;49m\u001b[38;5;124;43m\"\u001b[39;49m\u001b[43m,\u001b[49m\u001b[43m \u001b[49m\u001b[43mencoding\u001b[49m\u001b[38;5;241;43m=\u001b[39;49m\u001b[38;5;124;43m\"\u001b[39;49m\u001b[38;5;124;43mutf-8\u001b[39;49m\u001b[38;5;124;43m\"\u001b[39;49m\u001b[43m)\u001b[49m \u001b[38;5;28;01mas\u001b[39;00m json_file:\n\u001b[1;32m    516\u001b[0m         data \u001b[38;5;241m=\u001b[39m json\u001b[38;5;241m.\u001b[39mload(json_file)\n\u001b[1;32m    517\u001b[0m         \u001b[38;5;28;01mreturn\u001b[39;00m \u001b[38;5;28mcls\u001b[39m\u001b[38;5;241m.\u001b[39mfrom_authorized_user_info(data, scopes)\n",
      "\u001b[0;31mFileNotFoundError\u001b[0m: [Errno 2] No such file or directory: 'credentials/google_client_token.json'"
     ]
    }
   ],
   "source": [
    "\n",
    "GOOGLE_SHEET_URL = \"https://docs.google.com/spreadsheets/d/1ALbp_UXBR9Nmc0_8dM4HqNwSRGg05gzEEZtqL6_VmYc/edit?gid=0#gid=0\"\n",
    "GOOGLE_SHEET_ID = GOOGLE_SHEET_URL.split(\"/\")[-2]\n",
    "GOOGLE_CLIENT_TOKEN_FILEN = \"credentials/google_client_token.json\"\n",
    "\n",
    "\n",
    "def write_to_google_sheet(sheet_id: str):\n",
    "    creds = None\n",
    "    creds = Credentials.from_authorized_user_file(GOOGLE_CLIENT_TOKEN_FILEN, SCOPES)\n",
    "    # If credentials are not available or are invalid, log the user in.\n",
    "    if not creds or not creds.valid:\n",
    "        if creds and creds.expired and creds.refresh_token:\n",
    "            creds.refresh(Request())\n",
    "            token.write(creds.to_json())\n",
    "        else:\n",
    "            raise Exception(\"Credentials are not valid\")\n",
    "\n",
    "    # Initialize the Sheets API service\n",
    "    service = build(\"sheets\", \"v4\", credentials=creds)\n",
    "\n",
    "    # The range of cells to update\n",
    "    range_name = \"Sheet1!A1:B2\"\n",
    "\n",
    "    # The new values to write\n",
    "    values = [[\"Hello\", \"World\"], [\"Python\", \"Rocks\"]]\n",
    "    body = {\"values\": values}\n",
    "\n",
    "    # Update the sheet\n",
    "    result = (\n",
    "        service.spreadsheets()\n",
    "        .values()\n",
    "        .update(\n",
    "            spreadsheetId=sheet_id, range=range_name, valueInputOption=\"RAW\", body=body\n",
    "        )\n",
    "        .execute()\n",
    "    )\n",
    "    print(f\"{result.get('updatedCells')} cells updated.\")\n",
    "\n",
    "\n",
    "write_to_google_sheet(GOOGLE_SHEET_ID)"
   ]
  },
  {
   "cell_type": "code",
   "execution_count": null,
   "metadata": {},
   "outputs": [],
   "source": []
  }
 ],
 "metadata": {
  "kernelspec": {
   "display_name": "spideryarn__241103_vocab",
   "language": "python",
   "name": "python3"
  },
  "language_info": {
   "codemirror_mode": {
    "name": "ipython",
    "version": 3
   },
   "file_extension": ".py",
   "mimetype": "text/x-python",
   "name": "python",
   "nbconvert_exporter": "python",
   "pygments_lexer": "ipython3",
   "version": "3.12.3"
  }
 },
 "nbformat": 4,
 "nbformat_minor": 2
}
